


# imports
import plotly.express as px
import pandas as pd
import matplotlib.pyplot as plt
import numpy as np
from pathlib import Path

import warnings
warnings.filterwarnings('ignore')





# Read the census data into a Pandas DataFrame
file_path = Path("Data/sfo_neighborhoods_census_data.csv")
sfo_data = pd.read_csv(file_path, index_col="year")
sfo_data.head()


## Find null values
sfo_data.isnull().sum()


# Determine nulls as percentage of total rows of data
sfo_data['sale_price_sqr_foot'].isnull().sum()/len(sfo_data.index)


# Drop nulls since overall impact is minimal (< 1.5% of total data)
sfo_clean = sfo_data.dropna()
sfo_clean.isnull().sum()








# Calculate the mean number of housing units per year 
avg_housing_unit = sfo_clean[["housing_units"]].groupby("year").mean("housing_units")
avg_housing_unit


# Save the dataframe as a csv file
avg_housing_unit.to_csv('../Output/avg_housing.csv')


# Use the Pandas plot function to plot the average housing units per year.
# Note: You will need to manually adjust the y limit of the chart using the min and max values from above.

bar_fig = px.bar(avg_housing_unit, x=avg_housing_unit.index, y="housing_units", title="Housing Units in San Francisco from 2010-2016")

# Use the min, max, and std to scale the y limits of the chart
min = avg_housing_unit['housing_units'].min()
max = avg_housing_unit['housing_units'].max()
std = avg_housing_unit['housing_units'].std()

# Set plot size for better readability
bar_fig.update_layout(
    autosize=False,
    width=700,
    height=500
)

# Adjust y limits based on min, max, and std
bar_fig.update_yaxes(range=(min-std,max+std), title='Average Housing Units')
bar_fig.update_xaxes(title='Year')

# Show plot
bar_fig.show()









# Calculate the average sale price per square foot and average gross rent
avg_price_rent = sfo_clean[["sale_price_sqr_foot","gross_rent"]].groupby("year").mean("sale_price_sqr_foot","gross_rent")


# Create two line charts, one to plot the average sale price per square foot and another for average montly rent

# Line chart for average sale price per square foot
price_fig = px.line(avg_price_rent,x=avg_price_rent.index,y="sale_price_sqr_foot", title="Avg. Sales Price per Sq. Foot in San Francisco over Time")
price_fig.update_traces(line_color='blue')
price_fig.update_layout(
    autosize=False,
    width=800,
    height=500
)
price_fig.update_xaxes(title='Year')
price_fig.update_yaxes(title='Avg. Sale Price per Square Foot')
price_fig.show()

# Line chart for average montly rent
rent_fig = px.line(avg_price_rent,x=avg_price_rent.index,y="gross_rent", title="Avg. San Francisco Rent over Time")
rent_fig.update_traces(line_color='red')
rent_fig.update_layout(
    autosize=False,
    width=800,
    height=500
)
rent_fig.update_xaxes(title='Year')
rent_fig.update_yaxes(title='Avg. Rent')
rent_fig.show()









"""
Write a function that: 
- Calculates the average sale price per square foot for a given neighborhood in San Francisco,
- Filters the data for the specified neighborhood,
- Cleans and processes the data,
- Calculates the average price per square foot for each year,
- Creates a line plot to visualize the trend over the years.
"""

def average_price_by_neighborhood(neighborhood):
    df_prices = sfo_data[sfo_data['neighborhood'] == neighborhood]
    #Convert 'sale_price_sqr_foot' to a numeric type, ignore errors to avoid conversion issues
    df_prices['sale_price_sqr_foot'] = pd.to_numeric(df_prices['sale_price_sqr_foot'], errors='coerce')
    # Drop rows with NaN values in 'sale_price_sqr_foot' after conversion
    df_prices.dropna(inplace=True)
    # Group by 'year' and calculate mean, ensuring 'sale_price_sqr_foot' is now numeric
    avg_price_sqft = df_prices[["sale_price_sqr_foot"]].groupby("year").mean("sale_price_sqr_foot")

    # Create and return the plot
    fig = px.line(avg_price_sqft, x=avg_price_sqft.index, y="sale_price_sqr_foot", title=f"Avg. Price per Square Foot in {neighborhood}")
    fig.update_traces(line_color='green')
    fig.update_layout(
    autosize=False,
    width=800,
    height=500
)
    fig.update_xaxes(title='Year')
    fig.update_yaxes(title='Sales Price per Square Foot')
    return fig


# Test your function by passing a neighborhood name.

average_price_by_neighborhood("Alamo Square")


# Use plotly to create an interactive line chart of the average monthly rent.
def average_rent_by_neighborhood(neighborhood):
    df_rent = sfo_data[sfo_data['neighborhood'] == neighborhood]
    # Convert 'gross_rent' to a numeric type, ignore errors to avoid conversion issues
    df_rent['gross_rent'] = pd.to_numeric(df_rent['gross_rent'], errors='coerce')
    # Drop rows with NaN values in 'gross_rent' after conversion
    df_rent.dropna(inplace=True)
    # Group by 'year' and calculate mean, ensuring 'gross_rent' is now numeric
    avg_rent_df = df_rent[["gross_rent"]].groupby("year").mean("gross_rent")
    # Create and return the plot
    fig = px.line(avg_rent_df, x=avg_rent_df.index, y="gross_rent", title=f"Avg. Rent in {neighborhood}")
    fig.update_traces(line_color='purple')
    fig.update_layout(
    autosize=False,
    width=800,
    height=500
)
    fig.update_xaxes(title='Year')
    fig.update_yaxes(title='Rent Price')
    return fig 


average_rent_by_neighborhood("Alamo Square")





# Getting the data from the top 10 expensive neighborhoods to own
df_expensive_neighborhoods = sfo_clean[['neighborhood','sale_price_sqr_foot']].groupby(by="neighborhood").mean('sale_price_sqr_foot')
df_expensive_neighborhoods.reset_index(inplace=True)
top_10_neighbor_df = df_expensive_neighborhoods.sort_values('sale_price_sqr_foot', ascending=False).head(10)


# Plotting the data from the top 10 expensive neighborhoods
exp_fig = px.bar(top_10_neighbor_df, x='neighborhood', y='sale_price_sqr_foot', title='Top 10 Most Expensive Neighborhoods in San Francisco (2010 - 2016)')
exp_fig.update_xaxes(title="Neighborhood")
exp_fig.update_yaxes(title="Price per Square Foot")
exp_fig.update_layout(
    autosize=False,
    width=900,
    height=500
)
exp_fig.update_traces(marker_color='green')
# Show the plot
exp_fig.show()








"""
Write a function that: 
- creates a new DataFrame called df_costs containing only the rows from the DataFrame "sfo_data"
- generates a plotly bar chart comparing the sale_price_sqr_foot and gross_rent
columns.
- sets the barmode parameter to 'group'
- returns the plot
"""

def most_expensive_neighborhoods_rent_sales(selected_neighborhood):
    df_costs = sfo_data[sfo_data['neighborhood'] == selected_neighborhood]
    fig = px.bar(df_costs, x=df_costs.index, y=["gross_rent","sale_price_sqr_foot"], 
                 title=f"Rent and Sales Price in {selected_neighborhood} (2010-2016)",
                barmode='group')
    fig.update_layout(
    xaxis_title='Year',
    yaxis_title='USD',
    legend_title_text='Type',
    autosize=False,
    width=800,
    height=500
)
    return fig


# testing the function
most_expensive_neighborhoods_rent_sales("Union Square District")











# Load neighborhoods coordinates data
loc_path = Path("Data/neighborhoods_coordinates.csv")
sfo_coords = pd.read_csv(loc_path, index_col="Neighborhood")
sfo_coords.head()


# Calculate the mean values for each neighborhood
#sfo_data.head()
mean_values = sfo_data[["gross_rent"]].groupby(sfo_data["neighborhood"]).mean("gross_rent")
mean_values.head()


# Join the average values with the neighborhood locations
combined_data = pd.concat([sfo_coords, mean_values], axis="columns", join="inner")
combined_data.head()





# Create a scatter mapbox to analyze neighborhood info
df = combined_data
fig = px.scatter_mapbox(df, lat="Lat", lon="Lon", color="gross_rent", size="gross_rent", hover_name=df.index,
                  color_continuous_scale=px.colors.cyclical.IceFire, size_max=10, zoom=10, mapbox_style='carto-positron')
fig.update_layout(height = 800)
fig.show()


neighborhoods = sfo_data['neighborhood'].drop_duplicates().tolist()
neighborhoods.sort()
neighborhoods








# Fetch the data from all expensive neighborhoods per year.
df_expensive_neighborhoods = sfo_data.groupby(by="neighborhood").mean()
df_expensive_neighborhoods = df_expensive_neighborhoods.sort_values(
    by="sale_price_sqr_foot", ascending=False
).head(10)
df_expensive_neighborhoods = df_expensive_neighborhoods.reset_index()





# Parallel Categories Plot



# Parallel Coordinates Plot






# Sunburst Plot

